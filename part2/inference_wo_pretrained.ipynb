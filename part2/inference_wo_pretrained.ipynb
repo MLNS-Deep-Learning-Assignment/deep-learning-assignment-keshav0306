{
 "cells": [
  {
   "cell_type": "code",
   "execution_count": 1,
   "metadata": {},
   "outputs": [
    {
     "name": "stderr",
     "output_type": "stream",
     "text": [
      "100%|██████████| 10/10 [00:40<00:00,  4.09s/it]"
     ]
    },
    {
     "name": "stdout",
     "output_type": "stream",
     "text": [
      "tensor(0.5260, device='cuda:0')\n"
     ]
    },
    {
     "name": "stderr",
     "output_type": "stream",
     "text": [
      "\n"
     ]
    }
   ],
   "source": [
    "import torch\n",
    "import numpy as np\n",
    "import cv2\n",
    "import lightning as L\n",
    "from tqdm import tqdm\n",
    "from datasets_all.mnist import SumMNIST\n",
    "import yaml\n",
    "from mnist_model_wo_pretrained import LITMNISTModel\n",
    "\n",
    "class Config:\n",
    "    def __init__(self, config):\n",
    "        self.config = config\n",
    "        for k, v in self.config.items():\n",
    "            self.__setattr__(k,  v)\n",
    "\n",
    "config = \"configs/red.yaml\"\n",
    "\n",
    "with open(config, \"r\") as f:\n",
    "    config = Config(yaml.safe_load(f))\n",
    "    \n",
    "dataset_class = {\"mnist\" : SumMNIST}\n",
    "val_dataset = dataset_class[config.dataset_type](config.dataset_config, split=\"val\")\n",
    "valloader = torch.utils.data.dataloader.DataLoader(val_dataset, batch_size=1024, num_workers=4)\n",
    "model = LITMNISTModel.load_from_checkpoint(\"../pretrained_models/best_loss_wo_pretraining.ckpt\")\n",
    "model.eval()\n",
    "count = 0\n",
    "device = torch.device(\"cuda:0\")\n",
    "metrics = {\"acc\" : 0}\n",
    "\n",
    "with torch.no_grad():\n",
    "    for batch in tqdm(valloader):\n",
    "        data = batch\n",
    "        for k, v in batch.items():\n",
    "            batch[k] = v.to(device)\n",
    "        output = model.model.validate(batch)\n",
    "        acc = output['acc']\n",
    "        metrics['acc'] += acc * len(data['img'])\n",
    "        count += len(data['img'])\n",
    "        \n",
    "acc = metrics['acc'] / count\n",
    "print(acc)"
   ]
  }
 ],
 "metadata": {
  "kernelspec": {
   "display_name": "keshav",
   "language": "python",
   "name": "python3"
  },
  "language_info": {
   "codemirror_mode": {
    "name": "ipython",
    "version": 3
   },
   "file_extension": ".py",
   "mimetype": "text/x-python",
   "name": "python",
   "nbconvert_exporter": "python",
   "pygments_lexer": "ipython3",
   "version": "3.8.19"
  }
 },
 "nbformat": 4,
 "nbformat_minor": 2
}
