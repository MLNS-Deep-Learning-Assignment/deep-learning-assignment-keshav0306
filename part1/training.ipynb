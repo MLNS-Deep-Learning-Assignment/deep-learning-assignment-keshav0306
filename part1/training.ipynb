{
 "cells": [
  {
   "cell_type": "code",
   "execution_count": null,
   "metadata": {},
   "outputs": [],
   "source": [
    "import lightning as L\n",
    "import torch\n",
    "from lightning.pytorch.callbacks import ModelCheckpoint\n",
    "from lightning.pytorch.loggers import WandbLogger, CSVLogger\n",
    "from datasets_all.mnist import SumMNIST\n",
    "from mnist_model import LITMNISTModel\n",
    "import yaml\n",
    "from torch.utils.data import WeightedRandomSampler\n",
    "import numpy as np\n",
    "\n",
    "L.seed_everything(2024)\n",
    "class Config:\n",
    "    def __init__(self, config):\n",
    "        self.config = config\n",
    "        for k, v in self.config.items():\n",
    "            self.__setattr__(k,  v)\n",
    "\n",
    "config = \"configs/red.yaml\"\n",
    "with open(config, \"r\") as f:\n",
    "    config = Config(yaml.safe_load(f))\n",
    "\n",
    "dataset_class = {\"mnist\" : SumMNIST}\n",
    "\n",
    "train_dataset = dataset_class[config.dataset_type](config.dataset_config, split=\"train\")\n",
    "val_dataset = dataset_class[config.dataset_type](config.dataset_config, split=\"val\")\n",
    "\n",
    "shuffle = False\n",
    "trainloader = torch.utils.data.dataloader.DataLoader(train_dataset, batch_size=config.batch_size, num_workers=4, shuffle=shuffle)#, sampler=train_sampler)\n",
    "valloader = torch.utils.data.dataloader.DataLoader(val_dataset, batch_size=config.batch_size, num_workers=4, shuffle=False)\n",
    "\n",
    "model = LITMNISTModel(config)\n",
    "logger = WandbLogger(name=\"debug_run\", project=\"a1_mlns\", config=config)\n",
    "# logger = CSVLogger(\"logs\", name=\"a1_mlns\")\n",
    "checkpoint_callback = ModelCheckpoint(monitor=\"val_loss\", dirpath=config.ckpt_dir, filename=f\"best_loss_{config.backbone}_{config.dataset_type}\", mode='min')\n",
    "\n",
    "trainer = L.Trainer(devices=[0, 1, 2, 3], max_epochs=2000, callbacks=[checkpoint_callback], logger=[logger],\\\n",
    "    strategy='ddp_find_unused_parameters_true', detect_anomaly=True)\n",
    "\n",
    "trainer.fit(model, trainloader, valloader)"
   ]
  }
 ],
 "metadata": {
  "kernelspec": {
   "display_name": "keshav",
   "language": "python",
   "name": "python3"
  },
  "language_info": {
   "name": "python",
   "version": "3.8.0"
  }
 },
 "nbformat": 4,
 "nbformat_minor": 2
}
